{
 "cells": [
  {
   "cell_type": "code",
   "execution_count": null,
   "id": "1ed59c92",
   "metadata": {},
   "outputs": [],
   "source": [
    "# -*- coding: utf-8 -*-\n",
    "\"\"\"\n",
    "\n",
    "Thanks to optimization we know the best and worst case, and below is the code \n",
    "to plot the best and worst case and compare them.\n",
    "Created on Wed Jun  9 18:37:00 2021\n",
    "\n",
    "@author: Paolo Musone\n",
    "\"\"\"\n",
    "\n",
    "import bt\n",
    "\n",
    "\n",
    "beginning = '2018-01-01'\n",
    "ending = '2021-06-01'\n",
    "\n",
    "# Import data\n",
    "asset_list = ['lnt', 'aee', 'all','amt','apa','t','ato','abb']\n",
    "crypto_list = ['btc-usd','eth-usd','usdt-usd','bnb-usd','DX-Y.NYB']\n",
    "#asset_list2 = ['GE', 'AMZN', 'ABBV', 'UPS']\n",
    "#equity_list = asset_list+crypto_list\n",
    "equity_list = ['lnt', 'aee', 'all','amt','apa','t','ato','abb','btc-usd','eth-usd','usdt-usd','bnb-usd','DX-Y.NYB'] \n",
    "data = bt.get('lnt,aee,all,amt,apa,t,ato,abb,btc-usd,eth-usd,usdt-usd,bnb-usd,DX-Y.NYB', start=beginning, end= ending)\n",
    "data.head()\n",
    "\n",
    "mom_s = bt.Strategy('mom_s', [bt.algos.RunMonthly(),\n",
    "                              bt.algos.SelectAll(),\n",
    "                              bt.algos.SelectMomentum(1),\n",
    "                              bt.algos.WeighEqually(),\n",
    "                              bt.algos.Rebalance()],                 \n",
    "                    ['btc-usd','eth-usd','usdt-usd','bnb-usd','DX-Y.NYB'])\n",
    "\n",
    "z_mom_s = bt.Strategy('z_mom_s', [bt.algos.RunMonthly(),\n",
    "                              bt.algos.SelectAll(),\n",
    "                              bt.algos.SelectMomentum(8),\n",
    "                              bt.algos.WeighEqually(),\n",
    "                              bt.algos.Rebalance()],\n",
    "                    ['lnt', 'aee', 'all','amt','apa','t','ato','abb'])\n",
    "        \n",
    "\n",
    "\n",
    "master = bt.Strategy('Best Case', [bt.algos.RunMonthly(),\n",
    "                                bt.algos.SelectAll(),\n",
    "                                bt.algos.WeighEqually(),\n",
    "                                bt.algos.Rebalance()],\n",
    "                    [mom_s,z_mom_s])\n",
    "\n",
    "\n",
    "mom_s2 = bt.Strategy('mom_s2', [bt.algos.RunMonthly(),\n",
    "                              bt.algos.SelectAll(),\n",
    "                              bt.algos.SelectMomentum(1),\n",
    "                              bt.algos.WeighEqually(),\n",
    "                              bt.algos.Rebalance()],                 \n",
    "                    ['btc-usd','eth-usd','usdt-usd','bnb-usd','DX-Y.NYB'])\n",
    "\n",
    "z_mom_s2 = bt.Strategy('z_mom_s2', [bt.algos.RunMonthly(),\n",
    "                              bt.algos.SelectAll(),\n",
    "                              bt.algos.SelectMomentum(1),\n",
    "                              bt.algos.WeighEqually(),\n",
    "                              bt.algos.Rebalance()],\n",
    "                    ['lnt', 'aee', 'all','amt','apa','t','ato','abb'])\n",
    "        \n",
    "\n",
    "\n",
    "master2 = bt.Strategy('Worst Case', [bt.algos.RunMonthly(),\n",
    "                                bt.algos.SelectAll(),\n",
    "                                bt.algos.WeighEqually(),\n",
    "                                bt.algos.Rebalance()],\n",
    "                    [mom_s2,z_mom_s2])\n",
    "\n",
    "\n",
    "test = bt.Backtest(master, data)\n",
    "test2 = bt.Backtest(master2, data)\n",
    "\n",
    "results = bt.run(test, test2)\n",
    "\n",
    "results.plot()\n",
    "results.plot_security_weights()\n",
    "results.display()\n",
    "res = bt.run(test)\n",
    "res.plot_histogram()"
   ]
  }
 ],
 "metadata": {
  "kernelspec": {
   "display_name": "Python 3 (ipykernel)",
   "language": "python",
   "name": "python3"
  },
  "language_info": {
   "codemirror_mode": {
    "name": "ipython",
    "version": 3
   },
   "file_extension": ".py",
   "mimetype": "text/x-python",
   "name": "python",
   "nbconvert_exporter": "python",
   "pygments_lexer": "ipython3",
   "version": "3.8.8"
  },
  "toc": {
   "base_numbering": 1,
   "nav_menu": {},
   "number_sections": true,
   "sideBar": true,
   "skip_h1_title": false,
   "title_cell": "Table of Contents",
   "title_sidebar": "Contents",
   "toc_cell": false,
   "toc_position": {},
   "toc_section_display": true,
   "toc_window_display": false
  },
  "varInspector": {
   "cols": {
    "lenName": 16,
    "lenType": 16,
    "lenVar": 40
   },
   "kernels_config": {
    "python": {
     "delete_cmd_postfix": "",
     "delete_cmd_prefix": "del ",
     "library": "var_list.py",
     "varRefreshCmd": "print(var_dic_list())"
    },
    "r": {
     "delete_cmd_postfix": ") ",
     "delete_cmd_prefix": "rm(",
     "library": "var_list.r",
     "varRefreshCmd": "cat(var_dic_list()) "
    }
   },
   "types_to_exclude": [
    "module",
    "function",
    "builtin_function_or_method",
    "instance",
    "_Feature"
   ],
   "window_display": false
  }
 },
 "nbformat": 4,
 "nbformat_minor": 5
}
